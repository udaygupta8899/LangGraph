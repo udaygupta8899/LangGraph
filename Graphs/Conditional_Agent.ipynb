{
 "cells": [
  {
   "cell_type": "code",
   "execution_count": 1,
   "id": "bd541144",
   "metadata": {},
   "outputs": [],
   "source": [
    "from typing import List,TypedDict\n",
    "from langgraph.graph import StateGraph, START, END"
   ]
  },
  {
   "cell_type": "code",
   "execution_count": 2,
   "id": "e3a5297b",
   "metadata": {},
   "outputs": [],
   "source": [
    "class AgentState(TypedDict):\n",
    "    \"\"\"\n",
    "    Represents the state of the agent in the state graph.\n",
    "    \"\"\"\n",
    "    number1: int\n",
    "    number2: int\n",
    "    operation: str\n",
    "    result: int"
   ]
  },
  {
   "cell_type": "code",
   "execution_count": 3,
   "id": "38e98e40",
   "metadata": {},
   "outputs": [],
   "source": [
    "def adder_node(state:AgentState) -> AgentState:\n",
    "    \"\"\"\n",
    "    Adds two numbers and returns the result.\n",
    "    \"\"\"\n",
    "    state['result'] = state['number1'] + state['number2']\n",
    "    return state\n",
    "\n",
    "def subtractor_node(state:AgentState) -> AgentState:\n",
    "    \"\"\"\n",
    "    Subtracts two numbers and returns the result.\n",
    "    \"\"\"\n",
    "    state['result'] = state['number1'] - state['number2']\n",
    "    return state\n",
    "\n",
    "def decide_next_node(state: AgentState) -> str:\n",
    "    \"\"\"\n",
    "    Decides the next node based on the operation.\n",
    "    \"\"\"\n",
    "    if state['operation'] == '+':\n",
    "        return 'adder'\n",
    "    elif state['operation'] == '-':\n",
    "        return 'subtractor'\n",
    "    else:\n",
    "        raise ValueError(\"Unknown operation\")"
   ]
  },
  {
   "cell_type": "code",
   "execution_count": 4,
   "id": "ac0d818d",
   "metadata": {},
   "outputs": [],
   "source": [
    "graph = StateGraph(AgentState)\n",
    "\n",
    "graph.add_node(\"add_node\",adder_node)\n",
    "graph.add_node(\"subtract_node\",subtractor_node)\n",
    "graph.add_node(\"router\",lambda state: state)\n",
    "\n",
    "graph.add_edge(START, \"router\")\n",
    "graph.add_conditional_edges(\"router\",decide_next_node,\n",
    "    {\n",
    "        \"adder\": \"add_node\",\n",
    "        \"subtractor\": \"subtract_node\"\n",
    "    }\n",
    ")\n",
    "\n",
    "graph.add_edge(\"add_node\", END)\n",
    "graph.add_edge(\"subtract_node\", END)\n",
    "\n",
    "app = graph.compile()"
   ]
  },
  {
   "cell_type": "code",
   "execution_count": 5,
   "id": "9ac0578c",
   "metadata": {},
   "outputs": [
    {
     "data": {
      "image/png": "[encoded data removed]",
      "text/plain": [
       "<IPython.core.display.Image object>"
      ]
     },
     "metadata": {},
     "output_type": "display_data"
    }
   ],
   "source": [
    "from IPython.display import Image, display\n",
    "display(Image(app.get_graph().draw_mermaid_png()))"
   ]
  },
  {
   "cell_type": "code",
   "execution_count": 6,
   "id": "a5b8b4a4",
   "metadata": {},
   "outputs": [
    {
     "name": "stdout",
     "output_type": "stream",
     "text": [
      "{'number1': 5, 'number2': 3, 'operation': '+', 'result': 8}\n"
     ]
    }
   ],
   "source": [
    "result= app.invoke({\"number1\": 5, \"number2\": 3, \"operation\": \"+\"})\n",
    "print(result)"
   ]
  },
  {
   "cell_type": "code",
   "execution_count": null,
   "id": "39411387",
   "metadata": {},
   "outputs": [],
   "source": []
  }
 ],
 "metadata": {
  "kernelspec": {
   "display_name": "atlas",
   "language": "python",
   "name": "python3"
  },
  "language_info": {
   "codemirror_mode": {
    "name": "ipython",
    "version": 3
   },
   "file_extension": ".py",
   "mimetype": "text/x-python",
   "name": "python",
   "nbconvert_exporter": "python",
   "pygments_lexer": "ipython3",
   "version": "3.10.16"
  }
 },
 "nbformat": 4,
 "nbformat_minor": 5
}
