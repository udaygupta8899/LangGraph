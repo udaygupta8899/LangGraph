{
 "cells": [
  {
   "cell_type": "code",
   "execution_count": 2,
   "id": "6cf8df2b",
   "metadata": {},
   "outputs": [],
   "source": [
    "from typing import Dict,TypedDict\n",
    "from langgraph.graph import StateGraph"
   ]
  },
  {
   "cell_type": "code",
   "execution_count": 3,
   "id": "a01a3a0a",
   "metadata": {},
   "outputs": [],
   "source": [
    "class AgentState(TypedDict):\n",
    "    message: str"
   ]
  },
  {
   "cell_type": "code",
   "execution_count": 12,
   "id": "56f8cf92",
   "metadata": {},
   "outputs": [],
   "source": [
    "def greeting_message(state:AgentState) -> AgentState:\n",
    "    \"\"\" Simple Node to add a greeting message to the state \"\"\"\n",
    "    state['message'] = \"Hey! \"+state['message']+\" How can I assist you today?\"\n",
    "    return state\n",
    "\n",
    "def compliment_message(state:AgentState) -> AgentState:\n",
    "    \"\"\" Simple Node to add a compliment message to the state \"\"\"\n",
    "    state['message'] = \"You are doing great! \"+state['message']\n",
    "    return state"
   ]
  },
  {
   "cell_type": "code",
   "execution_count": 15,
   "id": "01daceaf",
   "metadata": {},
   "outputs": [],
   "source": [
    "graph = StateGraph(AgentState)\n",
    "\n",
    "graph.add_node(\"greeter\",greeting_message)\n",
    "graph.add_node(\"complimenter\", compliment_message)\n",
    "graph.add_edge(\"greeter\", \"complimenter\")\n",
    "graph.set_entry_point(\"greeter\")\n",
    "graph.set_finish_point(\"greeter\")\n",
    "\n",
    "app = graph.compile()"
   ]
  },
  {
   "cell_type": "code",
   "execution_count": 16,
   "id": "5727400b",
   "metadata": {},
   "outputs": [
    {
     "data": {
      "image/png": "[encoded data removed]",
      "text/plain": [
       "<IPython.core.display.Image object>"
      ]
     },
     "metadata": {},
     "output_type": "display_data"
    }
   ],
   "source": [
    "from IPython.display import Image, display\n",
    "display(Image(app.get_graph().draw_mermaid_png()))"
   ]
  },
  {
   "cell_type": "code",
   "execution_count": 17,
   "id": "26bcd79e",
   "metadata": {},
   "outputs": [],
   "source": [
    "result = app.invoke({\"message\":\"Bob\"})"
   ]
  },
  {
   "cell_type": "code",
   "execution_count": 18,
   "id": "453aa088",
   "metadata": {},
   "outputs": [
    {
     "data": {
      "text/plain": [
       "'You are doing great! Hey! Bob How can I assist you today?'"
      ]
     },
     "execution_count": 18,
     "metadata": {},
     "output_type": "execute_result"
    }
   ],
   "source": [
    "result['message']"
   ]
  }
 ],
 "metadata": {
  "kernelspec": {
   "display_name": "atlas",
   "language": "python",
   "name": "python3"
  },
  "language_info": {
   "codemirror_mode": {
    "name": "ipython",
    "version": 3
   },
   "file_extension": ".py",
   "mimetype": "text/x-python",
   "name": "python",
   "nbconvert_exporter": "python",
   "pygments_lexer": "ipython3",
   "version": "3.10.16"
  }
 },
 "nbformat": 4,
 "nbformat_minor": 5
}
