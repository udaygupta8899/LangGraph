{
 "cells": [
  {
   "cell_type": "code",
   "execution_count": 11,
   "id": "8ac79309",
   "metadata": {},
   "outputs": [],
   "source": [
    "from typing import List,TypedDict\n",
    "from langgraph.graph import StateGraph"
   ]
  },
  {
   "cell_type": "code",
   "execution_count": 12,
   "id": "8bb6d3ce",
   "metadata": {},
   "outputs": [],
   "source": [
    "class AgentState(TypedDict):\n",
    "    \"\"\"\n",
    "    Represents the state of the agent.\n",
    "    \"\"\"\n",
    "    name: str\n",
    "    age: int\n",
    "    skills: List[str]\n",
    "    result : str"
   ]
  },
  {
   "cell_type": "code",
   "execution_count": 13,
   "id": "e236ade7",
   "metadata": {},
   "outputs": [],
   "source": [
    "def greeting_message(state:AgentState) -> AgentState:\n",
    "    \"\"\"\"Adds a greeting message to the agent's state.\"\"\"\n",
    "    state['result'] = f\"{state['name']}, Welcome to the system!\"\n",
    "    return state\n",
    "def age_adder(state:AgentState) -> AgentState:\n",
    "    \"\"\"Adds user's age.\"\"\"\n",
    "    state['result'] += f\" You are {state['age']} years old.\"\n",
    "    return state\n",
    "def skills_adder(state:AgentState) -> AgentState:\n",
    "    \"\"\"Adds user's skills.\"\"\"\n",
    "    if state['skills']:\n",
    "        skills = ', '.join(state['skills'])\n",
    "        state['result'] += f\" Your skills are: {skills}.\"\n",
    "    else:\n",
    "        state['result'] += \" You have no skills listed.\"\n",
    "    return state"
   ]
  },
  {
   "cell_type": "code",
   "execution_count": 14,
   "id": "279463a0",
   "metadata": {},
   "outputs": [],
   "source": [
    "graph = StateGraph(AgentState)\n",
    "\n",
    "graph.add_node(\"greeter\", greeting_message)\n",
    "graph.add_node(\"age_adder\", age_adder)\n",
    "graph.add_node(\"skills_adder\", skills_adder)\n",
    "\n",
    "graph.add_edge(\"greeter\", \"age_adder\")\n",
    "graph.add_edge(\"age_adder\", \"skills_adder\")\n",
    "\n",
    "graph.set_entry_point(\"greeter\")\n",
    "graph.set_finish_point(\"skills_adder\")\n",
    "\n",
    "app = graph.compile()"
   ]
  },
  {
   "cell_type": "code",
   "execution_count": 15,
   "id": "e2270ce7",
   "metadata": {},
   "outputs": [
    {
     "data": {
      "image/png": "[encoded data removed]",
      "text/plain": [
       "<IPython.core.display.Image object>"
      ]
     },
     "metadata": {},
     "output_type": "display_data"
    }
   ],
   "source": [
    "from IPython.display import Image, display\n",
    "display(Image(app.get_graph().draw_mermaid_png()))"
   ]
  },
  {
   "cell_type": "code",
   "execution_count": 16,
   "id": "d3dd5420",
   "metadata": {},
   "outputs": [
    {
     "name": "stdout",
     "output_type": "stream",
     "text": [
      "John, Welcome to the system! You are 30 years old. Your skills are: Python, AI.\n"
     ]
    }
   ],
   "source": [
    "answer = app.invoke({\"name\": \"John\", \"age\": 30, \"skills\": [\"Python\", \"AI\"]})\n",
    "print(answer['result'])"
   ]
  },
  {
   "cell_type": "code",
   "execution_count": null,
   "id": "f84040db",
   "metadata": {},
   "outputs": [],
   "source": []
  }
 ],
 "metadata": {
  "kernelspec": {
   "display_name": "atlas",
   "language": "python",
   "name": "python3"
  },
  "language_info": {
   "codemirror_mode": {
    "name": "ipython",
    "version": 3
   },
   "file_extension": ".py",
   "mimetype": "text/x-python",
   "name": "python",
   "nbconvert_exporter": "python",
   "pygments_lexer": "ipython3",
   "version": "3.10.16"
  }
 },
 "nbformat": 4,
 "nbformat_minor": 5
}
